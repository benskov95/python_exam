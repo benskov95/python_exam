{
 "cells": [
  {
   "cell_type": "markdown",
   "metadata": {},
   "source": [
    "1. Træne en model til at kunne gennemskue, om et review er positivt eller negativt baseret på tekstindholdet (classification & natural language processing)\n",
    "2. Gruppere mest populære ord i positive og negative reviews, og visualisere det\n",
    "3. Sammenligne den trænede model mod det rigtige datasæt, for at se hvor nøjagtig den er ift. Datasættet\n",
    "4. Se om der er en sammenhæng mellem længde af review og rating\n",
    "5. Fordi datasættets format er simpel, kan vi webscrape reviews fra andre sider, og bruge vores trænede model på dem for at se, om den kan genneskue\n",
    "Om reviewet er positivt eller negativt.\n"
   ]
  },
  {
   "cell_type": "code",
   "execution_count": 2,
   "metadata": {},
   "outputs": [
    {
     "name": "stdout",
     "output_type": "stream",
     "text": [
      "Collecting fasttext\n",
      "  Downloading fasttext-0.9.2.tar.gz (68 kB)\n",
      "Collecting pybind11>=2.2\n",
      "  Using cached pybind11-2.6.2-py2.py3-none-any.whl (191 kB)\n",
      "Requirement already satisfied: setuptools>=0.7.0 in c:\\users\\oliver\\anaconda3\\lib\\site-packages (from fasttext) (50.3.1.post20201107)\n",
      "Requirement already satisfied: numpy in c:\\users\\oliver\\anaconda3\\lib\\site-packages (from fasttext) (1.19.2)\n",
      "Building wheels for collected packages: fasttext\n",
      "  Building wheel for fasttext (setup.py): started\n",
      "  Building wheel for fasttext (setup.py): finished with status 'done'\n",
      "  Created wheel for fasttext: filename=fasttext-0.9.2-cp38-cp38-win_amd64.whl size=236763 sha256=9d45b5b5809231dd2ecdeacfea2fb596dc2b75d317d51647dfa23035662efc29\n",
      "  Stored in directory: c:\\users\\oliver\\appdata\\local\\pip\\cache\\wheels\\93\\61\\2a\\c54711a91c418ba06ba195b1d78ff24fcaad8592f2a694ac94\n",
      "Successfully built fasttext\n",
      "Installing collected packages: pybind11, fasttext\n",
      "Successfully installed fasttext-0.9.2 pybind11-2.6.2\n",
      "Note: you may need to restart the kernel to use updated packages.\n"
     ]
    }
   ],
   "source": [
    "pip install fasttext"
   ]
  },
  {
   "cell_type": "code",
   "execution_count": 3,
   "metadata": {},
   "outputs": [
    {
     "name": "stdout",
     "output_type": "stream",
     "text": [
      "Collecting wget\n",
      "  Downloading wget-3.2.zip (10 kB)\n",
      "Building wheels for collected packages: wget\n",
      "  Building wheel for wget (setup.py): started\n",
      "  Building wheel for wget (setup.py): finished with status 'done'\n",
      "  Created wheel for wget: filename=wget-3.2-py3-none-any.whl size=9686 sha256=51d37d95da150a9c953254642f43975051bb4bd7f17ba41a3b79447873aac17d\n",
      "  Stored in directory: c:\\users\\oliver\\appdata\\local\\pip\\cache\\wheels\\bd\\a8\\c3\\3cf2c14a1837a4e04bd98631724e81f33f462d86a1d895fae0\n",
      "Successfully built wget\n",
      "Installing collected packages: wget\n",
      "Successfully installed wget-3.2\n",
      "Note: you may need to restart the kernel to use updated packages.\n"
     ]
    }
   ],
   "source": [
    "pip install wget"
   ]
  },
  {
   "cell_type": "markdown",
   "metadata": {},
   "source": [
    "# IMPORTANT\n",
    "### create a directory named \"model\" in the root of this directory before running the steps below"
   ]
  },
  {
   "cell_type": "code",
   "execution_count": 2,
   "metadata": {
    "tags": []
   },
   "outputs": [],
   "source": [
    "import setup\n",
    "import fasttext\n",
    "\n",
    "#setup.run_step_one()\n",
    "#setup.run_step_two()\n",
    "#setup.run_step_three()\n",
    "\n"
   ]
  },
  {
   "cell_type": "code",
   "execution_count": 8,
   "metadata": {},
   "outputs": [
    {
     "name": "stderr",
     "output_type": "stream",
     "text": [
      "Warning : `load_model` does not return WordVectorModel or SupervisedModel any more, but a `FastText` object which is very similar.\n"
     ]
    },
    {
     "data": {
      "text/plain": [
       "(('__label__1',), array([0.99974936]))"
      ]
     },
     "execution_count": 8,
     "metadata": {},
     "output_type": "execute_result"
    }
   ],
   "source": [
    "model = fasttext.load_model(\"model/trained_review_model.bin\");\n",
    "model.predict(\"Received this game under the assumption that it was by Hasbro (like their picture shows). The package not only arrived damaged but it is a fake. The Hasbro logo is not on the box. The quality of the game is disappointing. The mat is small and cheap plastic, like a 99 cent plastic table cloth. Definitely not worth the price, delivery time or hassle.\")"
   ]
  },
  {
   "cell_type": "code",
   "execution_count": 4,
   "metadata": {},
   "outputs": [
    {
     "data": {
      "text/plain": [
       "(3600000, 0.9268491666666666, 0.9268491666666666)"
      ]
     },
     "execution_count": 4,
     "metadata": {},
     "output_type": "execute_result"
    }
   ],
   "source": [
    "model.test(\"dataset/train.ft.txt\")"
   ]
  },
  {
   "cell_type": "code",
   "execution_count": 48,
   "metadata": {},
   "outputs": [
    {
     "name": "stdout",
     "output_type": "stream",
     "text": [
      "['\"3\"', '\"more like funchuck\"', '\"Gave this to my dad for a gag gift after directing \"\"Nunsense', '\"\" he got a reall kick out of it!\"']\n"
     ]
    }
   ],
   "source": [
    "import shlex\n",
    "import csv\n",
    "\n",
    "filename = 'dataset/train.csv'\n",
    "\n",
    "#Clean and save to new array\n",
    "newArray = []\n",
    "#count = 1\n",
    "with open(filename, encoding=\"utf8\") as f:\n",
    "    reader = csv.reader(f)\n",
    "    for row in reader:\n",
    "        row.pop(1)\n",
    "        row[1] = row[1].replace(',', '').replace('\"', '').replace(\"'\", '').replace(\"!\", '').lower()\n",
    "        newArray.append(\"__label__\" + \" \".join(row))\n",
    "        #count += 1;\n",
    "        #if count == 20:\n",
    "            #break;\n",
    "        \n",
    "with open(\"dataset/train_formattet.txt\", \"w\", encoding=\"utf-8\") as txt_file:\n",
    "    for line in newArray:\n",
    "        txt_file.write(line + \"\\n\")"
   ]
  },
  {
   "cell_type": "code",
   "execution_count": 49,
   "metadata": {},
   "outputs": [],
   "source": [
    "filename = 'dataset/test.csv'\n",
    "\n",
    "#Clean and save to new array\n",
    "newArray = []\n",
    "#count = 1\n",
    "with open(filename, encoding=\"utf8\") as f:\n",
    "    reader = csv.reader(f)\n",
    "    for row in reader:\n",
    "        row.pop(1)\n",
    "        row[1] = row[1].replace(',', '').replace('\"', '').replace(\"'\", '').replace(\"!\", '').lower()\n",
    "        newArray.append(\"__label__\" + \" \".join(row))\n",
    "        #count += 1;\n",
    "        #if count == 20:\n",
    "            #break;\n",
    "        \n",
    "    \n",
    "with open(\"dataset/test_formattet.txt\", \"w\", encoding=\"utf-8\") as txt_file:\n",
    "    for line in newArray:\n",
    "        txt_file.write(line + \"\\n\")"
   ]
  },
  {
   "cell_type": "code",
   "execution_count": 12,
   "metadata": {},
   "outputs": [
    {
     "name": "stdout",
     "output_type": "stream",
     "text": [
      "done training\n"
     ]
    }
   ],
   "source": [
    "model = fasttext.train_supervised(\"dataset/train_formattet.txt\", lr=0.2, epoch=10)\n",
    "print(\"done training\")"
   ]
  },
  {
   "cell_type": "code",
   "execution_count": 3,
   "metadata": {},
   "outputs": [
    {
     "ename": "NameError",
     "evalue": "name 'model' is not defined",
     "output_type": "error",
     "traceback": [
      "\u001b[1;31m---------------------------------------------------------------------------\u001b[0m",
      "\u001b[1;31mNameError\u001b[0m                                 Traceback (most recent call last)",
      "\u001b[1;32m<ipython-input-3-819899ca9006>\u001b[0m in \u001b[0;36m<module>\u001b[1;34m\u001b[0m\n\u001b[1;32m----> 1\u001b[1;33m \u001b[0mmodel\u001b[0m\u001b[1;33m.\u001b[0m\u001b[0msave_model\u001b[0m\u001b[1;33m(\u001b[0m\u001b[1;34m\"model/trained_review_stars_model.bin\"\u001b[0m\u001b[1;33m)\u001b[0m\u001b[1;33m\u001b[0m\u001b[1;33m\u001b[0m\u001b[0m\n\u001b[0m",
      "\u001b[1;31mNameError\u001b[0m: name 'model' is not defined"
     ]
    }
   ],
   "source": [
    "model.save_model(\"model/trained_review_stars_model.bin\")"
   ]
  },
  {
   "cell_type": "code",
   "execution_count": 11,
   "metadata": {},
   "outputs": [
    {
     "data": {
      "text/plain": [
       "(3000000, 0.5560816666666667, 0.5560816666666667)"
      ]
     },
     "execution_count": 11,
     "metadata": {},
     "output_type": "execute_result"
    }
   ],
   "source": [
    "model.test(\"dataset/train_formattet.txt\")"
   ]
  },
  {
   "cell_type": "code",
   "execution_count": 10,
   "metadata": {},
   "outputs": [
    {
     "data": {
      "text/plain": [
       "(('__label__1', '__label__2', '__label__3', '__label__4', '__label__5'),\n",
       " array([0.60981095, 0.28377995, 0.08508671, 0.01462938, 0.00674308]))"
      ]
     },
     "execution_count": 10,
     "metadata": {},
     "output_type": "execute_result"
    }
   ],
   "source": [
    "model.predict(\"\"\"I bought one of these chargers..the instructions say the lights stay on while the battery charges...true. The instructions doNT say the lights turn off when its done. Which is also true. 24 hours of charging and the lights stay on. I returned it thinking I had a bad unit.The new one did the same thing. I just kept it since it does charge...but the lights are useless since they seem to always stay on. It's a \"\"backup\"\" charger for when I manage to drain all my AAs but I wouldn't want this as my only charger.\"\"\", k=5)"
   ]
  },
  {
   "cell_type": "code",
   "execution_count": null,
   "metadata": {},
   "outputs": [],
   "source": []
  }
 ],
 "metadata": {
  "kernelspec": {
   "display_name": "Python 3",
   "language": "python",
   "name": "python3"
  },
  "language_info": {
   "codemirror_mode": {
    "name": "ipython",
    "version": 3
   },
   "file_extension": ".py",
   "mimetype": "text/x-python",
   "name": "python",
   "nbconvert_exporter": "python",
   "pygments_lexer": "ipython3",
   "version": "3.8.5"
  }
 },
 "nbformat": 4,
 "nbformat_minor": 4
}
