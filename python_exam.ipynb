{
 "cells": [
  {
   "source": [
    "# Exam assignment"
   ],
   "cell_type": "markdown",
   "metadata": {}
  },
  {
   "cell_type": "markdown",
   "metadata": {},
   "source": [
    "1. Træne en model til at kunne gennemskue, om et review er positivt eller negativt baseret på tekstindholdet (classification & natural language processing)\n",
    "2. Gruppere mest populære ord i positive og negative reviews, og visualisere det\n",
    "3. Sammenligne den trænede model mod det rigtige datasæt, for at se hvor nøjagtig den er ift. Datasættet\n",
    "4. Se om der er en sammenhæng mellem længde af review og rating\n",
    "5. Fordi datasættets format er simpel, kan vi webscrape reviews fra andre sider, og bruge vores trænede model på dem for at se, om den kan genneskue\n",
    "Om reviewet er positivt eller negativt.\n"
   ]
  },
  {
   "source": [
    "## imports"
   ],
   "cell_type": "markdown",
   "metadata": {}
  },
  {
   "cell_type": "code",
   "execution_count": null,
   "metadata": {},
   "outputs": [],
   "source": [
    "pip install fasttext termcolor wget nltk wordcloud"
   ]
  },
  {
   "cell_type": "code",
   "execution_count": null,
   "metadata": {},
   "outputs": [],
   "source": [
    "import nltk\n",
    "\n",
    "nltk.download(\"stopwords\")\n",
    "nltk.download('punkt')"
   ]
  },
  {
   "cell_type": "markdown",
   "metadata": {},
   "source": [
    "### 1. Træne en model til at kunne gennemskue, om et review er positivt eller negativt baseret på tekstindholdet (classification & natural language processing)"
   ]
  },
  {
   "cell_type": "code",
   "execution_count": null,
   "metadata": {
    "scrolled": true,
    "tags": []
   },
   "outputs": [],
   "source": [
    "from modules import model\n",
    "\n",
    "Takes a long time to run\n",
    "\n",
    "model.download_dataset()\n",
    "\n",
    "model.extract_dataset()\n",
    "\n",
    "model.clean_dataset() \n",
    "\n",
    "# Direct download of test and train text files - faster than generating them yourself with clean_dataset()\n",
    "# model.download_text_files()\n",
    "\n",
    "model.train_autotune(600) \n",
    "\n",
    "model.test_model(\"model/trained_review_model.bin\")\n",
    "\n",
    "model.predict_with_model(\n",
    "    [\n",
    "        (\"The ps5 dual sense controller is comfortable its a mix between an Xbox elite series 2 controller and a ps4 dualshock controller i got it to work on pc but sadly can't test out rumble features\", 5),\n",
    "        (\"Controller came in today. It does not come with any USB-C cable, which is a bummer, but not unexpected. I could not get it to work on my PS4 via wired connection, but it does work for some reason on the PS3. Was able to play some PS3 games with the controller (not all games work), only thing that fails to function on the PS3 is the home button and the vibration. Feels comfortable to play on and fits right in the palms of my hands. Looking forward to using it on an actual PS5 :)\", 4),\n",
    "        (\"The process of buying the vehicle was super smooth and easy. On that I have no complaints. My complaint is two fold, I sold them a vehicle that had brand new tires and an oil change. The vehicle I bought is now sitting at 45% oil life, so they didnt change the oil that is lame, every vehicle that is being sold shouldve had an oil change prior to being sold. The tire issue is the hardest and I wasn't going to say a thing until I seen the oil life. So the tires on the vehicle I bought have about 25 to 30% tread life left, the vehicle I sold them had 95%+.\", 3),\n",
    "        (\"Great idea, but super slow. Trying to buy a car was a long painful process. They are constantly on their iPad trying to communicate with other people. Took forrreeevvvver.\", 2),\n",
    "        (\"The controller is great!! Feels great and is loaded with cool new features...but then you have Sony customer service. A button started to malfunction on the controller that was about a month old. I called Sony up and instead of apologizing profusely and sending a prepaid postage to get it fixed or just replacing it, I got an email saying I’m responsible for shipping costs. Way to stand by your product!!! You made a device that malfunctioned...why not put a burden on the consumer to ship your crap back to you. Bad, bad Sony. I’m buying an XBOX.\", 1),\n",
    "    ], \"trained_review_model.bin\", True)\n",
    "\n",
    "model.get_model_args(\"model/trained_review_model.bin\")"
   ]
  },
  {
   "source": [
    "### 2. Gruppere mest populære ord i positive og negative reviews, og visualisere det"
   ],
   "cell_type": "markdown",
   "metadata": {}
  },
  {
   "cell_type": "code",
   "execution_count": null,
   "metadata": {},
   "outputs": [],
   "source": [
    "from modules import pop_words\n",
    "\n",
    "one_star, two_stars, three_stars, four_stars, five_stars = pop_words.prepare_category_dfs(\"dataset/train.csv\")"
   ]
  },
  {
   "cell_type": "code",
   "execution_count": null,
   "metadata": {},
   "outputs": [],
   "source": [
    "# choose which reviews to clean up \n",
    "cleaned_reviews = pop_words.clean_reviews(five_stars)"
   ]
  },
  {
   "cell_type": "code",
   "execution_count": null,
   "metadata": {},
   "outputs": [],
   "source": [
    "from wordcloud import WordCloud\n",
    "from matplotlib import pyplot as plt\n",
    "\n",
    "# name will be used to save wordcloud image\n",
    "name = \"5_stars\"\n",
    "all_words = \"\"\n",
    "\n",
    "for review in cleaned_reviews:\n",
    "    all_words += \" \".join(review) + \" \"\n",
    "\n",
    "print(\"Generating wordcloud...\")\n",
    "wordcloud = WordCloud(width=800, height=800, background_color=\"white\").generate(all_words)\n",
    "\n",
    "print(\"Saving wordcloud image in images folder.\")\n",
    "wordcloud.to_file(\"images/\" + name + \"_wordcloud.png\")\n",
    "\n",
    "print(name + \" wordcloud\")\n",
    "plt.figure(figsize = (8, 8), facecolor = None)\n",
    "plt.imshow(wordcloud, interpolation=\"bilinear\")\n",
    "plt.axis(\"off\")\n",
    "plt.tight_layout(pad = 0)\n",
    "  \n",
    "plt.show()"
   ]
  },
  {
   "cell_type": "code",
   "execution_count": null,
   "metadata": {},
   "outputs": [],
   "source": [
    "from IPython.display import Image, display \n",
    "\n",
    "img_names = [\"1_star_wordcloud.png\", \"2_stars_wordcloud.png\", \"3_stars_wordcloud.png\", \"4_stars_wordcloud.png\", \"5_stars_wordcloud.png\"]\n",
    "for img in img_names:\n",
    "    print(\"\\n\" + img + \"\\n\")\n",
    "    display(Image(filename=\"images/\" + img))\n",
    "    print(\"\\n\\n\")"
   ]
  },
  {
   "cell_type": "markdown",
   "metadata": {},
   "source": [
    "### 3. Sammenligne den trænede model mod det rigtige datasæt, for at se hvor nøjagtig den er ift. Datasættet"
   ]
  },
  {
   "cell_type": "code",
   "execution_count": null,
   "metadata": {},
   "outputs": [],
   "source": [
    "from modules import model\n",
    "\n",
    "model.download_model_with_90_precision()\n",
    "\n",
    "model.test_model(\"model/trained_review_model_0.90.bin\")\n",
    "\n",
    "model.get_model_args(\"model/trained_review_model_0.90.bin\")\n",
    "\n",
    "model.predict_with_model(\n",
    "    [\n",
    "        (\"Great mattress protector! It truly does protect my mattress from liquids and it’s soft, easy to clean and I haven’t had any issues with it! This order is actually my second order of this product because I liked it so much I bought more for other mattresses in my house!\", 5),\n",
    "        (\"Controller came in today. It does not come with any USB-C cable, which is a bummer, but not unexpected. I could not get it to work on my PS4 via wired connection, but it does work for some reason on the PS3. Was able to play some PS3 games with the controller (not all games work), only thing that fails to function on the PS3 is the home button and the vibration. Feels comfortable to play on and fits right in the palms of my hands. Looking forward to using it on an actual PS5 :)\", 4),\n",
    "        (\"This mattress pad is like a terry clothe, I wasn't expecting that when it came in the mail. Last night we had our first accident and it did absorb most of it, however the mattress did get a little wet. Not sure if that's just typical with some mattress pads (this is my first one) but I was a little disappointed. I will probably be purchasing a different brand to see if it works better.\", 3),\n",
    "        (\"Overall, I thought I would try this out because it had decent reviews and it was pretty cheap. Problem is it slept way too hot and had a tendency to slide around (not to mention the noise it makes going so) on the surface of the mattress making something like sitting up in bed against the wall highly uncomfortable. I assume it would do a really good job of protecting the mattress from liquids, but without having incontinence issues, I can't see any use for us to keep this.\", 2),\n",
    "        (\"Urine/liquid DOES penetrate through....so that defeats its purpose. We even hang dry these after a wash (obnoxiously tedious). So....what we end up doing now is placing a pee MAT on top of this yet underneath the regular fitted sheet to catch the urine of our kids. WASTE OF MONEY, TIME AND ENERGY. Strongly don’t recommend.\", 1),\n",
    "    ], \"trained_review_model_0.90.bin\", True)"
   ]
  },
  {
   "source": [
    "### 4. Se om der er en sammenhæng mellem længde af review og rating"
   ],
   "cell_type": "markdown",
   "metadata": {}
  },
  {
   "cell_type": "code",
   "execution_count": null,
   "metadata": {},
   "outputs": [],
   "source": [
    "from modules import correlationLength\n",
    "\n",
    "correlationLength.doWork()"
   ]
  },
  {
   "cell_type": "markdown",
   "metadata": {},
   "source": [
    "### 5. Fordi datasættets format er simpel, kan vi webscrape reviews fra andre sider, og bruge vores trænede model på dem for at se, om den kan genneskue"
   ]
  },
  {
   "cell_type": "code",
   "execution_count": null,
   "metadata": {},
   "outputs": [],
   "source": [
    "from modules import model\n",
    "import bs4\n",
    "import requests\n",
    "\n",
    "def getReviews(url, reviewArray=[]):\n",
    "        base_url = 'https://www.trustpilot.com'\n",
    "        html = requests.get(url)\n",
    "        txt = html.text\n",
    "        soup = bs4.BeautifulSoup(txt, 'html.parser')\n",
    "        review_text = soup.select('p[class=review-content__text]')\n",
    "        stars = soup.select('div[class=\"star-rating star-rating--medium\"] > img')\n",
    "\n",
    "\n",
    "        for i, r in enumerate(review_text):\n",
    "            if(stars[i][\"alt\"][0:1].isdigit()):\n",
    "                sentence = model.clean_sentence(r.getText())\n",
    "                reviewArray.append((sentence, int(stars[i][\"alt\"][0:1])))\n",
    "\n",
    "\n",
    "        nextpage = soup.select('a[class=\"button button--primary next-page\"]')\n",
    "        \n",
    "        if(len(nextpage) == 0):\n",
    "            return reviewArray\n",
    "        print(len(reviewArray))\n",
    "        return getReviews(base_url + nextpage[0]['href'], reviewArray)\n",
    "\n",
    "    \n",
    "\n",
    "urls = [\n",
    "    'https://www.trustpilot.com/review/www.europark.dk',\n",
    "    'https://www.trustpilot.com/review/www.1stdibs.com',\n",
    "    'https://www.trustpilot.com/review/www.oakmotors.com',\n",
    "    'https://www.trustpilot.com/review/www.brighterblooms.com',\n",
    "    'https://www.trustpilot.com/review/www.vrbo.com',\n",
    "    'https://www.trustpilot.com/review/www.teleflora.com'\n",
    "]\n",
    "\n",
    "resultArray = []\n",
    "\n",
    "for url in urls:\n",
    "    print(url)\n",
    "    reviewArray = getReviews(url, [])\n",
    "    resultArray = resultArray + reviewArray\n",
    "    \n",
    "\n",
    "\n",
    "model.predict_with_model(resultArray, \"trained_review_model.bin\", False)"
   ]
  }
 ],
 "metadata": {
  "kernelspec": {
   "name": "python376jvsc74a57bd098b0a9b7b4eaaa670588a142fd0a9b87eaafe866f1db4228be72b4211d12040f",
   "display_name": "Python 3.7.6 64-bit ('base': conda)"
  },
  "language_info": {
   "codemirror_mode": {
    "name": "ipython",
    "version": 3
   },
   "file_extension": ".py",
   "mimetype": "text/x-python",
   "name": "python",
   "nbconvert_exporter": "python",
   "pygments_lexer": "ipython3",
   "version": "3.7.6"
  }
 },
 "nbformat": 4,
 "nbformat_minor": 4
}