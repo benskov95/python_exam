{
 "cells": [
  {
   "cell_type": "markdown",
   "metadata": {},
   "source": [
    "1. Træne en model til at kunne gennemskue, om et review er positivt eller negativt baseret på tekstindholdet (classification & natural language processing)\n",
    "2. Gruppere mest populære ord i positive og negative reviews, og visualisere det\n",
    "3. Sammenligne den trænede model mod det rigtige datasæt, for at se hvor nøjagtig den er ift. Datasættet\n",
    "4. Se om der er en sammenhæng mellem længde af review og rating\n",
    "5. Fordi datasættets format er simpel, kan vi webscrape reviews fra andre sider, og bruge vores trænede model på dem for at se, om den kan genneskue\n",
    "Om reviewet er positivt eller negativt.\n"
   ]
  },
  {
   "cell_type": "code",
   "execution_count": null,
   "metadata": {},
   "outputs": [],
   "source": [
    "pip install fasttext termcolor wget"
   ]
  },
  {
   "cell_type": "markdown",
   "metadata": {},
   "source": [
    "### 1. Træne en model til at kunne gennemskue, om et review er positivt eller negativt baseret på tekstindholdet (classification & natural language processing)"
   ]
  },
  {
   "cell_type": "code",
   "execution_count": null,
   "metadata": {
    "scrolled": true,
    "tags": []
   },
   "outputs": [],
   "source": [
    "import model\n",
    "model.download_dataset()\n",
    "\n",
    "model.extract_dataset()\n",
    "\n",
    "model.clean_dataset()\n",
    "\n",
    "model.train_autotune(600)\n",
    "\n",
    "model.test_model(\"trained_review_model.bin\")\n",
    "\n",
    "model.predict_with_model(\n",
    "    [\n",
    "        (\"The ps5 dual sense controller is comfortable its a mix between an Xbox elite series 2 controller and a ps4 dualshock controller i got it to work on pc but sadly can't test out rumble features\", 5),\n",
    "        (\"Controller came in today. It does not come with any USB-C cable, which is a bummer, but not unexpected. I could not get it to work on my PS4 via wired connection, but it does work for some reason on the PS3. Was able to play some PS3 games with the controller (not all games work), only thing that fails to function on the PS3 is the home button and the vibration. Feels comfortable to play on and fits right in the palms of my hands. Looking forward to using it on an actual PS5 :)\", 4),\n",
    "        (\"The process of buying the vehicle was super smooth and easy. On that I have no complaints. My complaint is two fold, I sold them a vehicle that had brand new tires and an oil change. The vehicle I bought is now sitting at 45% oil life, so they didnt change the oil that is lame, every vehicle that is being sold shouldve had an oil change prior to being sold. The tire issue is the hardest and I wasn't going to say a thing until I seen the oil life. So the tires on the vehicle I bought have about 25 to 30% tread life left, the vehicle I sold them had 95%+.\", 3),\n",
    "        (\"Great idea, but super slow. Trying to buy a car was a long painful process. They are constantly on their iPad trying to communicate with other people. Took forrreeevvvver.\", 2),\n",
    "        (\"The controller is great!! Feels great and is loaded with cool new features...but then you have Sony customer service. A button started to malfunction on the controller that was about a month old. I called Sony up and instead of apologizing profusely and sending a prepaid postage to get it fixed or just replacing it, I got an email saying I’m responsible for shipping costs. Way to stand by your product!!! You made a device that malfunctioned...why not put a burden on the consumer to ship your crap back to you. Bad, bad Sony. I’m buying an XBOX.\", 1),\n",
    "    ], \"trained_review_model.bin\")\n",
    "\n",
    "model.get_model_args(\"trained_review_model.bin\")"
   ]
  },
  {
   "cell_type": "markdown",
   "metadata": {},
   "source": [
    "### 3. Sammenligne den trænede model mod det rigtige datasæt, for at se hvor nøjagtig den er ift. Datasættet"
   ]
  },
  {
   "cell_type": "code",
   "execution_count": null,
   "metadata": {},
   "outputs": [],
   "source": [
    "import model\n",
    "model.download_model_with_90_precision()\n",
    "\n",
    "model.test_model(\"trained_review_model_0.90.bin\")\n",
    "\n",
    "model.get_model_args(\"trained_review_model_0.90.bin\")\n",
    "\n",
    "model.predict_with_model(\n",
    "    [\n",
    "        (\"Great mattress protector! It truly does protect my mattress from liquids and it’s soft, easy to clean and I haven’t had any issues with it! This order is actually my second order of this product because I liked it so much I bought more for other mattresses in my house!\", 5),\n",
    "        (\"Controller came in today. It does not come with any USB-C cable, which is a bummer, but not unexpected. I could not get it to work on my PS4 via wired connection, but it does work for some reason on the PS3. Was able to play some PS3 games with the controller (not all games work), only thing that fails to function on the PS3 is the home button and the vibration. Feels comfortable to play on and fits right in the palms of my hands. Looking forward to using it on an actual PS5 :)\", 4),\n",
    "        (\"This mattress pad is like a terry clothe, I wasn't expecting that when it came in the mail. Last night we had our first accident and it did absorb most of it, however the mattress did get a little wet. Not sure if that's just typical with some mattress pads (this is my first one) but I was a little disappointed. I will probably be purchasing a different brand to see if it works better.\", 3),\n",
    "        (\"Overall, I thought I would try this out because it had decent reviews and it was pretty cheap. Problem is it slept way too hot and had a tendency to slide around (not to mention the noise it makes going so) on the surface of the mattress making something like sitting up in bed against the wall highly uncomfortable. I assume it would do a really good job of protecting the mattress from liquids, but without having incontinence issues, I can't see any use for us to keep this.\", 2),\n",
    "        (\"Urine/liquid DOES penetrate through....so that defeats its purpose. We even hang dry these after a wash (obnoxiously tedious). So....what we end up doing now is placing a pee MAT on top of this yet underneath the regular fitted sheet to catch the urine of our kids. WASTE OF MONEY, TIME AND ENERGY. Strongly don’t recommend.\", 1),\n",
    "    ], \"trained_review_model_0.90.bin\", True)"
   ]
  },
  {
   "cell_type": "markdown",
   "metadata": {},
   "source": [
    "### 5. Fordi datasættets format er simpel, kan vi webscrape reviews fra andre sider, og bruge vores trænede model på dem for at se, om den kan genneskue"
   ]
  },
  {
   "cell_type": "code",
   "execution_count": 1,
   "metadata": {},
   "outputs": [
    {
     "name": "stderr",
     "output_type": "stream",
     "text": [
      "[nltk_data] Downloading package punkt to\n",
      "[nltk_data]     C:\\Users\\Oliver\\AppData\\Roaming\\nltk_data...\n",
      "[nltk_data]   Package punkt is already up-to-date!\n",
      "[nltk_data] Downloading package stopwords to\n",
      "[nltk_data]     C:\\Users\\Oliver\\AppData\\Roaming\\nltk_data...\n",
      "[nltk_data]   Package stopwords is already up-to-date!\n",
      "[nltk_data] Downloading package wordnet to\n",
      "[nltk_data]     C:\\Users\\Oliver\\AppData\\Roaming\\nltk_data...\n",
      "[nltk_data]   Package wordnet is already up-to-date!\n"
     ]
    },
    {
     "ename": "TypeError",
     "evalue": "len() takes exactly one argument (0 given)",
     "output_type": "error",
     "traceback": [
      "\u001b[1;31m---------------------------------------------------------------------------\u001b[0m",
      "\u001b[1;31mTypeError\u001b[0m                                 Traceback (most recent call last)",
      "\u001b[1;32m<ipython-input-1-4e9142da6ad1>\u001b[0m in \u001b[0;36m<module>\u001b[1;34m\u001b[0m\n\u001b[0;32m     39\u001b[0m \u001b[1;33m\u001b[0m\u001b[0m\n\u001b[0;32m     40\u001b[0m \u001b[1;32mfor\u001b[0m \u001b[0murl\u001b[0m \u001b[1;32min\u001b[0m \u001b[0murls\u001b[0m\u001b[1;33m:\u001b[0m\u001b[1;33m\u001b[0m\u001b[1;33m\u001b[0m\u001b[0m\n\u001b[1;32m---> 41\u001b[1;33m     \u001b[0mreviewArray\u001b[0m \u001b[1;33m=\u001b[0m \u001b[0mgetReviews\u001b[0m\u001b[1;33m(\u001b[0m\u001b[0murl\u001b[0m\u001b[1;33m,\u001b[0m \u001b[1;33m[\u001b[0m\u001b[1;33m]\u001b[0m\u001b[1;33m)\u001b[0m\u001b[1;33m\u001b[0m\u001b[1;33m\u001b[0m\u001b[0m\n\u001b[0m\u001b[0;32m     42\u001b[0m     \u001b[0mresultArray\u001b[0m \u001b[1;33m=\u001b[0m \u001b[0mresultArray\u001b[0m \u001b[1;33m+\u001b[0m \u001b[0mreviewArray\u001b[0m\u001b[1;33m\u001b[0m\u001b[1;33m\u001b[0m\u001b[0m\n\u001b[0;32m     43\u001b[0m \u001b[1;33m\u001b[0m\u001b[0m\n",
      "\u001b[1;32m<ipython-input-1-4e9142da6ad1>\u001b[0m in \u001b[0;36mgetReviews\u001b[1;34m(url, reviewArray)\u001b[0m\n\u001b[0;32m     22\u001b[0m         \u001b[1;32mif\u001b[0m\u001b[1;33m(\u001b[0m\u001b[0mlen\u001b[0m\u001b[1;33m(\u001b[0m\u001b[0mnextpage\u001b[0m\u001b[1;33m)\u001b[0m \u001b[1;33m==\u001b[0m \u001b[1;36m0\u001b[0m\u001b[1;33m)\u001b[0m\u001b[1;33m:\u001b[0m\u001b[1;33m\u001b[0m\u001b[1;33m\u001b[0m\u001b[0m\n\u001b[0;32m     23\u001b[0m             \u001b[1;32mreturn\u001b[0m \u001b[0mreviewArray\u001b[0m\u001b[1;33m\u001b[0m\u001b[1;33m\u001b[0m\u001b[0m\n\u001b[1;32m---> 24\u001b[1;33m         \u001b[0mprint\u001b[0m\u001b[1;33m(\u001b[0m\u001b[0mlen\u001b[0m\u001b[1;33m(\u001b[0m\u001b[1;33m)\u001b[0m\u001b[1;33m)\u001b[0m\u001b[1;33m\u001b[0m\u001b[1;33m\u001b[0m\u001b[0m\n\u001b[0m\u001b[0;32m     25\u001b[0m         \u001b[1;32mreturn\u001b[0m \u001b[0mgetReviews\u001b[0m\u001b[1;33m(\u001b[0m\u001b[0mbase_url\u001b[0m \u001b[1;33m+\u001b[0m \u001b[0mnextpage\u001b[0m\u001b[1;33m[\u001b[0m\u001b[1;36m0\u001b[0m\u001b[1;33m]\u001b[0m\u001b[1;33m[\u001b[0m\u001b[1;34m'href'\u001b[0m\u001b[1;33m]\u001b[0m\u001b[1;33m,\u001b[0m \u001b[0mreviewArray\u001b[0m\u001b[1;33m)\u001b[0m\u001b[1;33m\u001b[0m\u001b[1;33m\u001b[0m\u001b[0m\n\u001b[0;32m     26\u001b[0m \u001b[1;33m\u001b[0m\u001b[0m\n",
      "\u001b[1;31mTypeError\u001b[0m: len() takes exactly one argument (0 given)"
     ]
    }
   ],
   "source": [
    "import model\n",
    "import bs4\n",
    "import requests\n",
    "\n",
    "\n",
    "def getReviews(url, reviewArray=[]):\n",
    "        base_url = 'https://www.trustpilot.com'\n",
    "        html = requests.get(url)\n",
    "        txt = html.text\n",
    "        soup = bs4.BeautifulSoup(txt, 'html.parser')\n",
    "        review_text = soup.select('p[class=review-content__text]')\n",
    "        stars = soup.select('div[class=\"star-rating star-rating--medium\"] > img')\n",
    "\n",
    "\n",
    "        for i, r in enumerate(review_text):\n",
    "            setence = model.clean_setence(r.getText())\n",
    "            reviewArray.append((setence, int(stars[i][\"alt\"][0:1])))\n",
    "\n",
    "\n",
    "        nextpage = soup.select('a[class=\"button button--primary next-page\"]')\n",
    "        \n",
    "        if(len(nextpage) == 0):\n",
    "            return reviewArray\n",
    "        print(len(reviewArray))\n",
    "        return getReviews(base_url + nextpage[0]['href'], reviewArray)\n",
    "\n",
    "    \n",
    "\n",
    "urls = [\n",
    "    'https://www.trustpilot.com/review/www.europark.dk',\n",
    "    'https://www.trustpilot.com/review/www.1stdibs.com',\n",
    "    'https://www.trustpilot.com/review/www.oakmotors.com',\n",
    "    'https://www.trustpilot.com/review/www.brighterblooms.com',\n",
    "    'https://www.trustpilot.com/review/www.vrbo.com',\n",
    "    'https://www.trustpilot.com/review/www.teleflora.com'\n",
    "]\n",
    "\n",
    "resultArray = []\n",
    "\n",
    "for url in urls:\n",
    "    reviewArray = getReviews(url, [])\n",
    "    resultArray = resultArray + reviewArray\n",
    "    \n",
    "\n",
    "\n",
    "model.predict_with_model(resultArray, \"trained_review_model_0.90.bin\", False)"
   ]
  },
  {
   "cell_type": "code",
   "execution_count": null,
   "metadata": {},
   "outputs": [],
   "source": []
  }
 ],
 "metadata": {
  "kernelspec": {
   "display_name": "Python 3",
   "language": "python",
   "name": "python3"
  },
  "language_info": {
   "codemirror_mode": {
    "name": "ipython",
    "version": 3
   },
   "file_extension": ".py",
   "mimetype": "text/x-python",
   "name": "python",
   "nbconvert_exporter": "python",
   "pygments_lexer": "ipython3",
   "version": "3.8.5"
  }
 },
 "nbformat": 4,
 "nbformat_minor": 4
}
