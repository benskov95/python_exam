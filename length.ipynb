{
 "cells": [
  {
   "cell_type": "code",
   "execution_count": 1,
   "metadata": {
    "scrolled": true
   },
   "outputs": [
    {
     "name": "stdout",
     "output_type": "stream",
     "text": [
      "Ratings: 1\n",
      "408.8041\n",
      "Ratings: 2\n",
      "441.55343833333336\n",
      "Ratings: 3\n",
      "430.66780166666666\n",
      "Ratings: 4\n",
      "413.76461333333333\n",
      "Ratings: 5\n",
      "375.36374333333333\n"
     ]
    }
   ],
   "source": [
    "import corelationLength\n",
    "\n",
    "#corelationLength.download_dataset()\n",
    "#corelationLength.extract_dataset()\n",
    "corelationLength.doWork()"
   ]
  },
  {
   "cell_type": "code",
   "execution_count": null,
   "metadata": {},
   "outputs": [],
   "source": []
  }
 ],
 "metadata": {
  "kernelspec": {
   "display_name": "Python 3",
   "language": "python",
   "name": "python3"
  },
  "language_info": {
   "codemirror_mode": {
    "name": "ipython",
    "version": 3
   },
   "file_extension": ".py",
   "mimetype": "text/x-python",
   "name": "python",
   "nbconvert_exporter": "python",
   "pygments_lexer": "ipython3",
   "version": "3.7.6"
  }
 },
 "nbformat": 4,
 "nbformat_minor": 4
}
